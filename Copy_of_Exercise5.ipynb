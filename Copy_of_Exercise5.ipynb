{
  "cells": [
    {
      "cell_type": "markdown",
      "metadata": {
        "id": "view-in-github",
        "colab_type": "text"
      },
      "source": [
        "<a href=\"https://colab.research.google.com/github/Gkcoli/MLThings/blob/main/Copy_of_Exercise5.ipynb\" target=\"_parent\"><img src=\"https://colab.research.google.com/assets/colab-badge.svg\" alt=\"Open In Colab\"/></a>"
      ]
    },
    {
      "cell_type": "markdown",
      "source": [
        "# Exercise 5"
      ],
      "metadata": {
        "id": "DzE0a2wse5_X"
      }
    },
    {
      "cell_type": "code",
      "execution_count": 4,
      "metadata": {
        "id": "1jGZ4ic7DRL-"
      },
      "outputs": [],
      "source": [
        "import pandas as pd\n",
        "import matplotlib.pyplot as plt\n",
        "import seaborn as sns\n",
        "from sklearn.linear_model import LinearRegression\n",
        "from scipy.stats import pearsonr\n",
        "import statsmodels.api as sm"
      ]
    },
    {
      "cell_type": "code",
      "execution_count": 6,
      "metadata": {
        "id": "ZWwABN_vDXoV"
      },
      "outputs": [],
      "source": [
        "df = pd.read_excel('./traveldata.xlsx')\n"
      ]
    },
    {
      "cell_type": "code",
      "execution_count": 7,
      "metadata": {
        "id": "6uh5EWIaDaum",
        "colab": {
          "base_uri": "https://localhost:8080/",
          "height": 363
        },
        "outputId": "457f626a-f721-4606-8a78-d3d19c08bb4b"
      },
      "outputs": [
        {
          "output_type": "execute_result",
          "data": {
            "text/plain": [
              "   Miles Traveled  Number of Deliveries  Gas Price  Travel Time\n",
              "0              89                     4       3.84          7.0\n",
              "1              66                     1       3.19          5.4\n",
              "2              78                     3       3.78          6.6\n",
              "3             111                     6       3.89          7.4\n",
              "4              44                     1       3.57          4.8\n",
              "5              77                     3       3.57          6.4\n",
              "6              80                     3       3.03          7.0\n",
              "7              66                     2       3.51          5.6\n",
              "8             109                     5       3.54          7.3\n",
              "9              76                     3       3.25          6.4"
            ],
            "text/html": [
              "\n",
              "  <div id=\"df-b025e1b7-d2a0-4c1b-bf56-6c3db60f4d3a\" class=\"colab-df-container\">\n",
              "    <div>\n",
              "<style scoped>\n",
              "    .dataframe tbody tr th:only-of-type {\n",
              "        vertical-align: middle;\n",
              "    }\n",
              "\n",
              "    .dataframe tbody tr th {\n",
              "        vertical-align: top;\n",
              "    }\n",
              "\n",
              "    .dataframe thead th {\n",
              "        text-align: right;\n",
              "    }\n",
              "</style>\n",
              "<table border=\"1\" class=\"dataframe\">\n",
              "  <thead>\n",
              "    <tr style=\"text-align: right;\">\n",
              "      <th></th>\n",
              "      <th>Miles Traveled</th>\n",
              "      <th>Number of Deliveries</th>\n",
              "      <th>Gas Price</th>\n",
              "      <th>Travel Time</th>\n",
              "    </tr>\n",
              "  </thead>\n",
              "  <tbody>\n",
              "    <tr>\n",
              "      <th>0</th>\n",
              "      <td>89</td>\n",
              "      <td>4</td>\n",
              "      <td>3.84</td>\n",
              "      <td>7.0</td>\n",
              "    </tr>\n",
              "    <tr>\n",
              "      <th>1</th>\n",
              "      <td>66</td>\n",
              "      <td>1</td>\n",
              "      <td>3.19</td>\n",
              "      <td>5.4</td>\n",
              "    </tr>\n",
              "    <tr>\n",
              "      <th>2</th>\n",
              "      <td>78</td>\n",
              "      <td>3</td>\n",
              "      <td>3.78</td>\n",
              "      <td>6.6</td>\n",
              "    </tr>\n",
              "    <tr>\n",
              "      <th>3</th>\n",
              "      <td>111</td>\n",
              "      <td>6</td>\n",
              "      <td>3.89</td>\n",
              "      <td>7.4</td>\n",
              "    </tr>\n",
              "    <tr>\n",
              "      <th>4</th>\n",
              "      <td>44</td>\n",
              "      <td>1</td>\n",
              "      <td>3.57</td>\n",
              "      <td>4.8</td>\n",
              "    </tr>\n",
              "    <tr>\n",
              "      <th>5</th>\n",
              "      <td>77</td>\n",
              "      <td>3</td>\n",
              "      <td>3.57</td>\n",
              "      <td>6.4</td>\n",
              "    </tr>\n",
              "    <tr>\n",
              "      <th>6</th>\n",
              "      <td>80</td>\n",
              "      <td>3</td>\n",
              "      <td>3.03</td>\n",
              "      <td>7.0</td>\n",
              "    </tr>\n",
              "    <tr>\n",
              "      <th>7</th>\n",
              "      <td>66</td>\n",
              "      <td>2</td>\n",
              "      <td>3.51</td>\n",
              "      <td>5.6</td>\n",
              "    </tr>\n",
              "    <tr>\n",
              "      <th>8</th>\n",
              "      <td>109</td>\n",
              "      <td>5</td>\n",
              "      <td>3.54</td>\n",
              "      <td>7.3</td>\n",
              "    </tr>\n",
              "    <tr>\n",
              "      <th>9</th>\n",
              "      <td>76</td>\n",
              "      <td>3</td>\n",
              "      <td>3.25</td>\n",
              "      <td>6.4</td>\n",
              "    </tr>\n",
              "  </tbody>\n",
              "</table>\n",
              "</div>\n",
              "    <div class=\"colab-df-buttons\">\n",
              "\n",
              "  <div class=\"colab-df-container\">\n",
              "    <button class=\"colab-df-convert\" onclick=\"convertToInteractive('df-b025e1b7-d2a0-4c1b-bf56-6c3db60f4d3a')\"\n",
              "            title=\"Convert this dataframe to an interactive table.\"\n",
              "            style=\"display:none;\">\n",
              "\n",
              "  <svg xmlns=\"http://www.w3.org/2000/svg\" height=\"24px\" viewBox=\"0 -960 960 960\">\n",
              "    <path d=\"M120-120v-720h720v720H120Zm60-500h600v-160H180v160Zm220 220h160v-160H400v160Zm0 220h160v-160H400v160ZM180-400h160v-160H180v160Zm440 0h160v-160H620v160ZM180-180h160v-160H180v160Zm440 0h160v-160H620v160Z\"/>\n",
              "  </svg>\n",
              "    </button>\n",
              "\n",
              "  <style>\n",
              "    .colab-df-container {\n",
              "      display:flex;\n",
              "      gap: 12px;\n",
              "    }\n",
              "\n",
              "    .colab-df-convert {\n",
              "      background-color: #E8F0FE;\n",
              "      border: none;\n",
              "      border-radius: 50%;\n",
              "      cursor: pointer;\n",
              "      display: none;\n",
              "      fill: #1967D2;\n",
              "      height: 32px;\n",
              "      padding: 0 0 0 0;\n",
              "      width: 32px;\n",
              "    }\n",
              "\n",
              "    .colab-df-convert:hover {\n",
              "      background-color: #E2EBFA;\n",
              "      box-shadow: 0px 1px 2px rgba(60, 64, 67, 0.3), 0px 1px 3px 1px rgba(60, 64, 67, 0.15);\n",
              "      fill: #174EA6;\n",
              "    }\n",
              "\n",
              "    .colab-df-buttons div {\n",
              "      margin-bottom: 4px;\n",
              "    }\n",
              "\n",
              "    [theme=dark] .colab-df-convert {\n",
              "      background-color: #3B4455;\n",
              "      fill: #D2E3FC;\n",
              "    }\n",
              "\n",
              "    [theme=dark] .colab-df-convert:hover {\n",
              "      background-color: #434B5C;\n",
              "      box-shadow: 0px 1px 3px 1px rgba(0, 0, 0, 0.15);\n",
              "      filter: drop-shadow(0px 1px 2px rgba(0, 0, 0, 0.3));\n",
              "      fill: #FFFFFF;\n",
              "    }\n",
              "  </style>\n",
              "\n",
              "    <script>\n",
              "      const buttonEl =\n",
              "        document.querySelector('#df-b025e1b7-d2a0-4c1b-bf56-6c3db60f4d3a button.colab-df-convert');\n",
              "      buttonEl.style.display =\n",
              "        google.colab.kernel.accessAllowed ? 'block' : 'none';\n",
              "\n",
              "      async function convertToInteractive(key) {\n",
              "        const element = document.querySelector('#df-b025e1b7-d2a0-4c1b-bf56-6c3db60f4d3a');\n",
              "        const dataTable =\n",
              "          await google.colab.kernel.invokeFunction('convertToInteractive',\n",
              "                                                    [key], {});\n",
              "        if (!dataTable) return;\n",
              "\n",
              "        const docLinkHtml = 'Like what you see? Visit the ' +\n",
              "          '<a target=\"_blank\" href=https://colab.research.google.com/notebooks/data_table.ipynb>data table notebook</a>'\n",
              "          + ' to learn more about interactive tables.';\n",
              "        element.innerHTML = '';\n",
              "        dataTable['output_type'] = 'display_data';\n",
              "        await google.colab.output.renderOutput(dataTable, element);\n",
              "        const docLink = document.createElement('div');\n",
              "        docLink.innerHTML = docLinkHtml;\n",
              "        element.appendChild(docLink);\n",
              "      }\n",
              "    </script>\n",
              "  </div>\n",
              "\n",
              "\n",
              "<div id=\"df-a1a6c90b-3d1f-413b-a475-9cc0e8a1cb7e\">\n",
              "  <button class=\"colab-df-quickchart\" onclick=\"quickchart('df-a1a6c90b-3d1f-413b-a475-9cc0e8a1cb7e')\"\n",
              "            title=\"Suggest charts\"\n",
              "            style=\"display:none;\">\n",
              "\n",
              "<svg xmlns=\"http://www.w3.org/2000/svg\" height=\"24px\"viewBox=\"0 0 24 24\"\n",
              "     width=\"24px\">\n",
              "    <g>\n",
              "        <path d=\"M19 3H5c-1.1 0-2 .9-2 2v14c0 1.1.9 2 2 2h14c1.1 0 2-.9 2-2V5c0-1.1-.9-2-2-2zM9 17H7v-7h2v7zm4 0h-2V7h2v10zm4 0h-2v-4h2v4z\"/>\n",
              "    </g>\n",
              "</svg>\n",
              "  </button>\n",
              "\n",
              "<style>\n",
              "  .colab-df-quickchart {\n",
              "      --bg-color: #E8F0FE;\n",
              "      --fill-color: #1967D2;\n",
              "      --hover-bg-color: #E2EBFA;\n",
              "      --hover-fill-color: #174EA6;\n",
              "      --disabled-fill-color: #AAA;\n",
              "      --disabled-bg-color: #DDD;\n",
              "  }\n",
              "\n",
              "  [theme=dark] .colab-df-quickchart {\n",
              "      --bg-color: #3B4455;\n",
              "      --fill-color: #D2E3FC;\n",
              "      --hover-bg-color: #434B5C;\n",
              "      --hover-fill-color: #FFFFFF;\n",
              "      --disabled-bg-color: #3B4455;\n",
              "      --disabled-fill-color: #666;\n",
              "  }\n",
              "\n",
              "  .colab-df-quickchart {\n",
              "    background-color: var(--bg-color);\n",
              "    border: none;\n",
              "    border-radius: 50%;\n",
              "    cursor: pointer;\n",
              "    display: none;\n",
              "    fill: var(--fill-color);\n",
              "    height: 32px;\n",
              "    padding: 0;\n",
              "    width: 32px;\n",
              "  }\n",
              "\n",
              "  .colab-df-quickchart:hover {\n",
              "    background-color: var(--hover-bg-color);\n",
              "    box-shadow: 0 1px 2px rgba(60, 64, 67, 0.3), 0 1px 3px 1px rgba(60, 64, 67, 0.15);\n",
              "    fill: var(--button-hover-fill-color);\n",
              "  }\n",
              "\n",
              "  .colab-df-quickchart-complete:disabled,\n",
              "  .colab-df-quickchart-complete:disabled:hover {\n",
              "    background-color: var(--disabled-bg-color);\n",
              "    fill: var(--disabled-fill-color);\n",
              "    box-shadow: none;\n",
              "  }\n",
              "\n",
              "  .colab-df-spinner {\n",
              "    border: 2px solid var(--fill-color);\n",
              "    border-color: transparent;\n",
              "    border-bottom-color: var(--fill-color);\n",
              "    animation:\n",
              "      spin 1s steps(1) infinite;\n",
              "  }\n",
              "\n",
              "  @keyframes spin {\n",
              "    0% {\n",
              "      border-color: transparent;\n",
              "      border-bottom-color: var(--fill-color);\n",
              "      border-left-color: var(--fill-color);\n",
              "    }\n",
              "    20% {\n",
              "      border-color: transparent;\n",
              "      border-left-color: var(--fill-color);\n",
              "      border-top-color: var(--fill-color);\n",
              "    }\n",
              "    30% {\n",
              "      border-color: transparent;\n",
              "      border-left-color: var(--fill-color);\n",
              "      border-top-color: var(--fill-color);\n",
              "      border-right-color: var(--fill-color);\n",
              "    }\n",
              "    40% {\n",
              "      border-color: transparent;\n",
              "      border-right-color: var(--fill-color);\n",
              "      border-top-color: var(--fill-color);\n",
              "    }\n",
              "    60% {\n",
              "      border-color: transparent;\n",
              "      border-right-color: var(--fill-color);\n",
              "    }\n",
              "    80% {\n",
              "      border-color: transparent;\n",
              "      border-right-color: var(--fill-color);\n",
              "      border-bottom-color: var(--fill-color);\n",
              "    }\n",
              "    90% {\n",
              "      border-color: transparent;\n",
              "      border-bottom-color: var(--fill-color);\n",
              "    }\n",
              "  }\n",
              "</style>\n",
              "\n",
              "  <script>\n",
              "    async function quickchart(key) {\n",
              "      const quickchartButtonEl =\n",
              "        document.querySelector('#' + key + ' button');\n",
              "      quickchartButtonEl.disabled = true;  // To prevent multiple clicks.\n",
              "      quickchartButtonEl.classList.add('colab-df-spinner');\n",
              "      try {\n",
              "        const charts = await google.colab.kernel.invokeFunction(\n",
              "            'suggestCharts', [key], {});\n",
              "      } catch (error) {\n",
              "        console.error('Error during call to suggestCharts:', error);\n",
              "      }\n",
              "      quickchartButtonEl.classList.remove('colab-df-spinner');\n",
              "      quickchartButtonEl.classList.add('colab-df-quickchart-complete');\n",
              "    }\n",
              "    (() => {\n",
              "      let quickchartButtonEl =\n",
              "        document.querySelector('#df-a1a6c90b-3d1f-413b-a475-9cc0e8a1cb7e button');\n",
              "      quickchartButtonEl.style.display =\n",
              "        google.colab.kernel.accessAllowed ? 'block' : 'none';\n",
              "    })();\n",
              "  </script>\n",
              "</div>\n",
              "\n",
              "  <div id=\"id_b50bd3a4-e57b-489e-ad63-73d76c568771\">\n",
              "    <style>\n",
              "      .colab-df-generate {\n",
              "        background-color: #E8F0FE;\n",
              "        border: none;\n",
              "        border-radius: 50%;\n",
              "        cursor: pointer;\n",
              "        display: none;\n",
              "        fill: #1967D2;\n",
              "        height: 32px;\n",
              "        padding: 0 0 0 0;\n",
              "        width: 32px;\n",
              "      }\n",
              "\n",
              "      .colab-df-generate:hover {\n",
              "        background-color: #E2EBFA;\n",
              "        box-shadow: 0px 1px 2px rgba(60, 64, 67, 0.3), 0px 1px 3px 1px rgba(60, 64, 67, 0.15);\n",
              "        fill: #174EA6;\n",
              "      }\n",
              "\n",
              "      [theme=dark] .colab-df-generate {\n",
              "        background-color: #3B4455;\n",
              "        fill: #D2E3FC;\n",
              "      }\n",
              "\n",
              "      [theme=dark] .colab-df-generate:hover {\n",
              "        background-color: #434B5C;\n",
              "        box-shadow: 0px 1px 3px 1px rgba(0, 0, 0, 0.15);\n",
              "        filter: drop-shadow(0px 1px 2px rgba(0, 0, 0, 0.3));\n",
              "        fill: #FFFFFF;\n",
              "      }\n",
              "    </style>\n",
              "    <button class=\"colab-df-generate\" onclick=\"generateWithVariable('df')\"\n",
              "            title=\"Generate code using this dataframe.\"\n",
              "            style=\"display:none;\">\n",
              "\n",
              "  <svg xmlns=\"http://www.w3.org/2000/svg\" height=\"24px\"viewBox=\"0 0 24 24\"\n",
              "       width=\"24px\">\n",
              "    <path d=\"M7,19H8.4L18.45,9,17,7.55,7,17.6ZM5,21V16.75L18.45,3.32a2,2,0,0,1,2.83,0l1.4,1.43a1.91,1.91,0,0,1,.58,1.4,1.91,1.91,0,0,1-.58,1.4L9.25,21ZM18.45,9,17,7.55Zm-12,3A5.31,5.31,0,0,0,4.9,8.1,5.31,5.31,0,0,0,1,6.5,5.31,5.31,0,0,0,4.9,4.9,5.31,5.31,0,0,0,6.5,1,5.31,5.31,0,0,0,8.1,4.9,5.31,5.31,0,0,0,12,6.5,5.46,5.46,0,0,0,6.5,12Z\"/>\n",
              "  </svg>\n",
              "    </button>\n",
              "    <script>\n",
              "      (() => {\n",
              "      const buttonEl =\n",
              "        document.querySelector('#id_b50bd3a4-e57b-489e-ad63-73d76c568771 button.colab-df-generate');\n",
              "      buttonEl.style.display =\n",
              "        google.colab.kernel.accessAllowed ? 'block' : 'none';\n",
              "\n",
              "      buttonEl.onclick = () => {\n",
              "        google.colab.notebook.generateWithVariable('df');\n",
              "      }\n",
              "      })();\n",
              "    </script>\n",
              "  </div>\n",
              "\n",
              "    </div>\n",
              "  </div>\n"
            ],
            "application/vnd.google.colaboratory.intrinsic+json": {
              "type": "dataframe",
              "variable_name": "df",
              "summary": "{\n  \"name\": \"df\",\n  \"rows\": 10,\n  \"fields\": [\n    {\n      \"column\": \"Miles Traveled\",\n      \"properties\": {\n        \"dtype\": \"number\",\n        \"std\": 19,\n        \"min\": 44,\n        \"max\": 111,\n        \"num_unique_values\": 9,\n        \"samples\": [\n          109,\n          66,\n          77\n        ],\n        \"semantic_type\": \"\",\n        \"description\": \"\"\n      }\n    },\n    {\n      \"column\": \"Number of Deliveries\",\n      \"properties\": {\n        \"dtype\": \"number\",\n        \"std\": 1,\n        \"min\": 1,\n        \"max\": 6,\n        \"num_unique_values\": 6,\n        \"samples\": [\n          4,\n          1,\n          5\n        ],\n        \"semantic_type\": \"\",\n        \"description\": \"\"\n      }\n    },\n    {\n      \"column\": \"Gas Price\",\n      \"properties\": {\n        \"dtype\": \"number\",\n        \"std\": 0.2856201829158592,\n        \"min\": 3.03,\n        \"max\": 3.89,\n        \"num_unique_values\": 9,\n        \"samples\": [\n          3.54,\n          3.19,\n          3.03\n        ],\n        \"semantic_type\": \"\",\n        \"description\": \"\"\n      }\n    },\n    {\n      \"column\": \"Travel Time\",\n      \"properties\": {\n        \"dtype\": \"number\",\n        \"std\": 0.8672433978480961,\n        \"min\": 4.8,\n        \"max\": 7.4,\n        \"num_unique_values\": 8,\n        \"samples\": [\n          5.4,\n          6.4,\n          7.0\n        ],\n        \"semantic_type\": \"\",\n        \"description\": \"\"\n      }\n    }\n  ]\n}"
            }
          },
          "metadata": {},
          "execution_count": 7
        }
      ],
      "source": [
        "df"
      ]
    },
    {
      "cell_type": "markdown",
      "metadata": {
        "id": "0e7F0WCne-8o"
      },
      "source": [
        "## A. Correlation"
      ]
    },
    {
      "cell_type": "markdown",
      "metadata": {
        "id": "U08ybiFgMbQ7"
      },
      "source": [
        "### Check the relationships between each independent variable and the dependent variable using scatterplots and correlations."
      ]
    },
    {
      "cell_type": "markdown",
      "source": [
        "1. Create scatter plot between miles traveled and travel time"
      ],
      "metadata": {
        "id": "wRYSx_gUbb3N"
      }
    },
    {
      "cell_type": "code",
      "execution_count": 10,
      "metadata": {
        "id": "h7_ZHYhYDuSe",
        "colab": {
          "base_uri": "https://localhost:8080/",
          "height": 451
        },
        "outputId": "2c4d0346-38e1-4628-fc40-65dca83a1c74"
      },
      "outputs": [
        {
          "output_type": "display_data",
          "data": {
            "text/plain": [
              "<Figure size 640x480 with 1 Axes>"
            ],
            "image/png": "[encoded data removed]"
          },
          "metadata": {}
        }
      ],
      "source": [
        "# put your answer here\n",
        "plt.scatter(df['Miles Traveled'],\n",
        "            df['Travel Time'])\n",
        "plt.xlabel('MIles Traveled')\n",
        "plt.ylabel('Travel Time')\n",
        "plt.show()"
      ]
    },
    {
      "cell_type": "markdown",
      "source": [
        "2. Create scatter plot between number of deliveries and travel time"
      ],
      "metadata": {
        "id": "VNOMGC4tblzn"
      }
    },
    {
      "cell_type": "code",
      "execution_count": 11,
      "metadata": {
        "id": "4HE-5zP9EFx0",
        "colab": {
          "base_uri": "https://localhost:8080/",
          "height": 451
        },
        "outputId": "102970ef-e2bc-45cd-eba2-282a247152c0"
      },
      "outputs": [
        {
          "output_type": "display_data",
          "data": {
            "text/plain": [
              "<Figure size 640x480 with 1 Axes>"
            ],
            "image/png": "[encoded data removed]"
          },
          "metadata": {}
        }
      ],
      "source": [
        "# put your answer here\n",
        "plt.scatter(df['Number of Deliveries'],\n",
        "            df['Travel Time'])\n",
        "plt.xlabel('Number of Deliveries')\n",
        "plt.ylabel('Travel Time')\n",
        "plt.show()"
      ]
    },
    {
      "cell_type": "markdown",
      "source": [
        "3. Create scatter plot between Gas Price and Travel time"
      ],
      "metadata": {
        "id": "MtjV8Zl5bquY"
      }
    },
    {
      "cell_type": "code",
      "execution_count": 12,
      "metadata": {
        "id": "kWtQ4QKcEeVU",
        "colab": {
          "base_uri": "https://localhost:8080/",
          "height": 451
        },
        "outputId": "abc7a291-b0eb-4cb5-9f24-51ee8402aa69"
      },
      "outputs": [
        {
          "output_type": "display_data",
          "data": {
            "text/plain": [
              "<Figure size 640x480 with 1 Axes>"
            ],
            "image/png": "[encoded data removed]"
          },
          "metadata": {}
        }
      ],
      "source": [
        "# put your answer here\n",
        "plt.scatter(df['Gas Price'],\n",
        "            df['Travel Time'])\n",
        "plt.xlabel('Gas Price')\n",
        "plt.ylabel('Travel Time')\n",
        "plt.show()"
      ]
    },
    {
      "cell_type": "markdown",
      "source": [
        "4. Create a pairplot"
      ],
      "metadata": {
        "id": "Y-5Oe1aTb1ML"
      }
    },
    {
      "cell_type": "code",
      "execution_count": 18,
      "metadata": {
        "id": "8eJqX_RXTFCA",
        "colab": {
          "base_uri": "https://localhost:8080/",
          "height": 824
        },
        "outputId": "a73d4ee1-bd44-4c2e-a490-7b457b3e7d72"
      },
      "outputs": [
        {
          "output_type": "execute_result",
          "data": {
            "text/plain": [
              "<seaborn.axisgrid.PairGrid at 0x79967ebcbb50>"
            ]
          },
          "metadata": {},
          "execution_count": 18
        },
        {
          "output_type": "display_data",
          "data": {
            "text/plain": [
              "<Figure size 800x800 with 20 Axes>"
            ],
            "image/png": "[encoded data removed]"
          },
          "metadata": {}
        }
      ],
      "source": [
        "# put your answer here\n",
        "sns.set_palette('husl', 1)\n",
        "sns.pairplot(data=df, height=2)\n"
      ]
    },
    {
      "cell_type": "markdown",
      "source": [
        "5. Calculate r-squared and p-value between Miles Traveled and Travel Time"
      ],
      "metadata": {
        "id": "N2Cwy4EZb6CY"
      }
    },
    {
      "cell_type": "code",
      "execution_count": 19,
      "metadata": {
        "id": "z85FNuL3XykJ",
        "colab": {
          "base_uri": "https://localhost:8080/"
        },
        "outputId": "347d0277-36c4-4349-d609-8ba03383c526"
      },
      "outputs": [
        {
          "output_type": "stream",
          "name": "stdout",
          "text": [
            "Miles Traveled and Time\n",
            "correlation coefficient: 0.928178500887476\n",
            "p-value: 0.00010667565429896801\n"
          ]
        }
      ],
      "source": [
        "# put your answer here\n",
        "result = pearsonr(df['Miles Traveled'], df['Travel Time'])\n",
        "print(\"Miles Traveled and Time\")\n",
        "print(\"correlation coefficient:\", result[0])\n",
        "print(\"p-value:\", result[1])"
      ]
    },
    {
      "cell_type": "markdown",
      "source": [
        "6. Calculate r-squared and p-value between Number of Deliveries and Travel Time"
      ],
      "metadata": {
        "id": "V0tmekGtcEBS"
      }
    },
    {
      "cell_type": "code",
      "execution_count": 20,
      "metadata": {
        "id": "V5GzGetxZyJj",
        "colab": {
          "base_uri": "https://localhost:8080/"
        },
        "outputId": "ab35cbdd-69fe-4ddd-e2b4-d50210fa7e43"
      },
      "outputs": [
        {
          "output_type": "stream",
          "name": "stdout",
          "text": [
            "Number of Deliveries and Time\n",
            "correlation coefficient: 0.9164433964470268\n",
            "p-value: 0.00019260878342962958\n"
          ]
        }
      ],
      "source": [
        "# put your answer here\n",
        "result = pearsonr(df['Number of Deliveries'], df['Travel Time'])\n",
        "print(\"Number of Deliveries and Time\")\n",
        "print(\"correlation coefficient:\", result[0])\n",
        "print(\"p-value:\", result[1])"
      ]
    },
    {
      "cell_type": "markdown",
      "source": [
        "7. Calculate r-squared and p-value between Gas Price and Travel Time"
      ],
      "metadata": {
        "id": "zt28PWuxcPNm"
      }
    },
    {
      "cell_type": "code",
      "execution_count": 21,
      "metadata": {
        "id": "i4XIek0XaF0H",
        "colab": {
          "base_uri": "https://localhost:8080/"
        },
        "outputId": "14b7084a-6058-4930-84d6-ab6010068060"
      },
      "outputs": [
        {
          "output_type": "stream",
          "name": "stdout",
          "text": [
            "Gas Price and Time\n",
            "correlation coefficient: 0.2672115310193847\n",
            "p-value: 0.45545341268508166\n"
          ]
        }
      ],
      "source": [
        "# put your answer here\n",
        "result = pearsonr(df['Gas Price'], df['Travel Time'])\n",
        "print(\"Gas Price and Time\")\n",
        "print(\"correlation coefficient:\", result[0])\n",
        "print(\"p-value:\", result[1])"
      ]
    },
    {
      "cell_type": "markdown",
      "metadata": {
        "id": "m0LFj6GwMmmT"
      },
      "source": [
        "### Check the relationships among the independent variables using scatterplots and correlations."
      ]
    },
    {
      "cell_type": "markdown",
      "source": [
        "8. Create scatter plot between Miles Traveled and Number of Deliveries."
      ],
      "metadata": {
        "id": "KzhtMwk9cgUc"
      }
    },
    {
      "cell_type": "code",
      "execution_count": 22,
      "metadata": {
        "id": "fkCUT89bMsOo",
        "colab": {
          "base_uri": "https://localhost:8080/",
          "height": 449
        },
        "outputId": "5841237e-8888-444e-a350-83659e286b8d"
      },
      "outputs": [
        {
          "output_type": "display_data",
          "data": {
            "text/plain": [
              "<Figure size 640x480 with 1 Axes>"
            ],
            "image/png": "[encoded data removed]"
          },
          "metadata": {}
        }
      ],
      "source": [
        "# put your answer here\n",
        "plt.scatter(df['Miles Traveled'],\n",
        "            df['Number of Deliveries'])\n",
        "plt.xlabel('MIles Traveled')\n",
        "plt.ylabel('Number of Deliveries')\n",
        "plt.show()"
      ]
    },
    {
      "cell_type": "markdown",
      "source": [
        "9. Create scatter plot between Miles traveled and Gas Price"
      ],
      "metadata": {
        "id": "9Vt6fAWHcpNs"
      }
    },
    {
      "cell_type": "code",
      "execution_count": 23,
      "metadata": {
        "id": "FkwyhaaxMwOE",
        "colab": {
          "base_uri": "https://localhost:8080/",
          "height": 449
        },
        "outputId": "cefe5c39-94b2-4a87-ca90-166f7cf409eb"
      },
      "outputs": [
        {
          "output_type": "display_data",
          "data": {
            "text/plain": [
              "<Figure size 640x480 with 1 Axes>"
            ],
            "image/png": "[encoded data removed]"
          },
          "metadata": {}
        }
      ],
      "source": [
        "# put your answer here\n",
        "plt.scatter(df['Miles Traveled'],\n",
        "            df['Gas Price'])\n",
        "plt.xlabel('MIles Traveled')\n",
        "plt.ylabel('Gas Price')\n",
        "plt.show()"
      ]
    },
    {
      "cell_type": "markdown",
      "source": [
        "10. Create scatter plot between Number of Deliveries and Gas Price"
      ],
      "metadata": {
        "id": "MLIy3oRecvZi"
      }
    },
    {
      "cell_type": "code",
      "execution_count": 24,
      "metadata": {
        "id": "e0rICg_lM3c3",
        "colab": {
          "base_uri": "https://localhost:8080/",
          "height": 449
        },
        "outputId": "ae73d17f-c58b-49bb-f443-826be3290e20"
      },
      "outputs": [
        {
          "output_type": "display_data",
          "data": {
            "text/plain": [
              "<Figure size 640x480 with 1 Axes>"
            ],
            "image/png": "[encoded data removed]"
          },
          "metadata": {}
        }
      ],
      "source": [
        "# put your answer here\n",
        "plt.scatter(df['Number of Deliveries'],\n",
        "            df['Gas Price'])\n",
        "plt.xlabel('Number of Deliveries')\n",
        "plt.ylabel('Gas Price')\n",
        "plt.show()"
      ]
    },
    {
      "cell_type": "markdown",
      "source": [
        "11. Calculate r-squared and p-value between Miles Traveled and Number of Deliveries"
      ],
      "metadata": {
        "id": "SQsY1LuLc7hj"
      }
    },
    {
      "cell_type": "code",
      "execution_count": 25,
      "metadata": {
        "id": "Gg16fgdqbPgf",
        "colab": {
          "base_uri": "https://localhost:8080/"
        },
        "outputId": "3eae377d-5755-4553-82c4-da5c6b8f5196"
      },
      "outputs": [
        {
          "output_type": "stream",
          "name": "stdout",
          "text": [
            "Miles Traveled and Number of Deliveries\n",
            "correlation coefficient: 0.9558982066200347\n",
            "p-value: 1.5690314407660616e-05\n"
          ]
        }
      ],
      "source": [
        "# put your answer here\n",
        "result = pearsonr(df['Miles Traveled'], df['Number of Deliveries'])\n",
        "print(\"Miles Traveled and Number of Deliveries\")\n",
        "print(\"correlation coefficient:\", result[0])\n",
        "print(\"p-value:\", result[1])"
      ]
    },
    {
      "cell_type": "markdown",
      "source": [
        "12. Calculate r-squared and p-value between Miles Traveled and Gas Price"
      ],
      "metadata": {
        "id": "gsHXLDy8dEd8"
      }
    },
    {
      "cell_type": "code",
      "execution_count": 26,
      "metadata": {
        "id": "1RLWTs82bb3t",
        "colab": {
          "base_uri": "https://localhost:8080/"
        },
        "outputId": "50dc4c80-f793-4217-9429-5639474a8f85"
      },
      "outputs": [
        {
          "output_type": "stream",
          "name": "stdout",
          "text": [
            "Miles Traveled and Gas Price\n",
            "correlation coefficient: 0.35579623354708517\n",
            "p-value: 0.31296405908178965\n"
          ]
        }
      ],
      "source": [
        "# put your answer here\n",
        "result = pearsonr(df['Miles Traveled'], df['Gas Price'])\n",
        "print(\"Miles Traveled and Gas Price\")\n",
        "print(\"correlation coefficient:\", result[0])\n",
        "print(\"p-value:\", result[1])"
      ]
    },
    {
      "cell_type": "markdown",
      "source": [
        "13. Calculate r-squared and p-value between Number of Deliveries and Gas Price"
      ],
      "metadata": {
        "id": "B9_ehI_TdGjv"
      }
    },
    {
      "cell_type": "code",
      "execution_count": 27,
      "metadata": {
        "id": "schBTh7hbmmw",
        "colab": {
          "base_uri": "https://localhost:8080/"
        },
        "outputId": "7754795a-efc2-4ca1-977a-568d97fc4cb9"
      },
      "outputs": [
        {
          "output_type": "stream",
          "name": "stdout",
          "text": [
            "Number of Deliveries and Gas Price\n",
            "correlation coefficient: 0.4982421647401633\n",
            "p-value: 0.142741207670319\n"
          ]
        }
      ],
      "source": [
        "# put your answer here\n",
        "result = pearsonr(df['Number of Deliveries'], df['Gas Price'])\n",
        "print(\"Number of Deliveries and Gas Price\")\n",
        "print(\"correlation coefficient:\", result[0])\n",
        "print(\"p-value:\", result[1])"
      ]
    },
    {
      "cell_type": "markdown",
      "metadata": {
        "id": "7vtm7gQFc8Am"
      },
      "source": [
        "### Correlation Summary"
      ]
    },
    {
      "cell_type": "markdown",
      "source": [
        "14. Create the correlation summary"
      ],
      "metadata": {
        "id": "9ZkVzcUndOjU"
      }
    },
    {
      "cell_type": "code",
      "execution_count": 28,
      "metadata": {
        "id": "ti0mQdimO_S5",
        "colab": {
          "base_uri": "https://localhost:8080/",
          "height": 175
        },
        "outputId": "5cf4893d-0fb2-418a-f615-1b9f0ab695f9"
      },
      "outputs": [
        {
          "output_type": "execute_result",
          "data": {
            "text/plain": [
              "                      Miles Traveled  Number of Deliveries  Gas Price  \\\n",
              "Miles Traveled              1.000000              0.955898   0.355796   \n",
              "Number of Deliveries        0.955898              1.000000   0.498242   \n",
              "Gas Price                   0.355796              0.498242   1.000000   \n",
              "Travel Time                 0.928179              0.916443   0.267212   \n",
              "\n",
              "                      Travel Time  \n",
              "Miles Traveled           0.928179  \n",
              "Number of Deliveries     0.916443  \n",
              "Gas Price                0.267212  \n",
              "Travel Time              1.000000  "
            ],
            "text/html": [
              "\n",
              "  <div id=\"df-d3365193-3dda-47e7-be03-2282be9e3f99\" class=\"colab-df-container\">\n",
              "    <div>\n",
              "<style scoped>\n",
              "    .dataframe tbody tr th:only-of-type {\n",
              "        vertical-align: middle;\n",
              "    }\n",
              "\n",
              "    .dataframe tbody tr th {\n",
              "        vertical-align: top;\n",
              "    }\n",
              "\n",
              "    .dataframe thead th {\n",
              "        text-align: right;\n",
              "    }\n",
              "</style>\n",
              "<table border=\"1\" class=\"dataframe\">\n",
              "  <thead>\n",
              "    <tr style=\"text-align: right;\">\n",
              "      <th></th>\n",
              "      <th>Miles Traveled</th>\n",
              "      <th>Number of Deliveries</th>\n",
              "      <th>Gas Price</th>\n",
              "      <th>Travel Time</th>\n",
              "    </tr>\n",
              "  </thead>\n",
              "  <tbody>\n",
              "    <tr>\n",
              "      <th>Miles Traveled</th>\n",
              "      <td>1.000000</td>\n",
              "      <td>0.955898</td>\n",
              "      <td>0.355796</td>\n",
              "      <td>0.928179</td>\n",
              "    </tr>\n",
              "    <tr>\n",
              "      <th>Number of Deliveries</th>\n",
              "      <td>0.955898</td>\n",
              "      <td>1.000000</td>\n",
              "      <td>0.498242</td>\n",
              "      <td>0.916443</td>\n",
              "    </tr>\n",
              "    <tr>\n",
              "      <th>Gas Price</th>\n",
              "      <td>0.355796</td>\n",
              "      <td>0.498242</td>\n",
              "      <td>1.000000</td>\n",
              "      <td>0.267212</td>\n",
              "    </tr>\n",
              "    <tr>\n",
              "      <th>Travel Time</th>\n",
              "      <td>0.928179</td>\n",
              "      <td>0.916443</td>\n",
              "      <td>0.267212</td>\n",
              "      <td>1.000000</td>\n",
              "    </tr>\n",
              "  </tbody>\n",
              "</table>\n",
              "</div>\n",
              "    <div class=\"colab-df-buttons\">\n",
              "\n",
              "  <div class=\"colab-df-container\">\n",
              "    <button class=\"colab-df-convert\" onclick=\"convertToInteractive('df-d3365193-3dda-47e7-be03-2282be9e3f99')\"\n",
              "            title=\"Convert this dataframe to an interactive table.\"\n",
              "            style=\"display:none;\">\n",
              "\n",
              "  <svg xmlns=\"http://www.w3.org/2000/svg\" height=\"24px\" viewBox=\"0 -960 960 960\">\n",
              "    <path d=\"M120-120v-720h720v720H120Zm60-500h600v-160H180v160Zm220 220h160v-160H400v160Zm0 220h160v-160H400v160ZM180-400h160v-160H180v160Zm440 0h160v-160H620v160ZM180-180h160v-160H180v160Zm440 0h160v-160H620v160Z\"/>\n",
              "  </svg>\n",
              "    </button>\n",
              "\n",
              "  <style>\n",
              "    .colab-df-container {\n",
              "      display:flex;\n",
              "      gap: 12px;\n",
              "    }\n",
              "\n",
              "    .colab-df-convert {\n",
              "      background-color: #E8F0FE;\n",
              "      border: none;\n",
              "      border-radius: 50%;\n",
              "      cursor: pointer;\n",
              "      display: none;\n",
              "      fill: #1967D2;\n",
              "      height: 32px;\n",
              "      padding: 0 0 0 0;\n",
              "      width: 32px;\n",
              "    }\n",
              "\n",
              "    .colab-df-convert:hover {\n",
              "      background-color: #E2EBFA;\n",
              "      box-shadow: 0px 1px 2px rgba(60, 64, 67, 0.3), 0px 1px 3px 1px rgba(60, 64, 67, 0.15);\n",
              "      fill: #174EA6;\n",
              "    }\n",
              "\n",
              "    .colab-df-buttons div {\n",
              "      margin-bottom: 4px;\n",
              "    }\n",
              "\n",
              "    [theme=dark] .colab-df-convert {\n",
              "      background-color: #3B4455;\n",
              "      fill: #D2E3FC;\n",
              "    }\n",
              "\n",
              "    [theme=dark] .colab-df-convert:hover {\n",
              "      background-color: #434B5C;\n",
              "      box-shadow: 0px 1px 3px 1px rgba(0, 0, 0, 0.15);\n",
              "      filter: drop-shadow(0px 1px 2px rgba(0, 0, 0, 0.3));\n",
              "      fill: #FFFFFF;\n",
              "    }\n",
              "  </style>\n",
              "\n",
              "    <script>\n",
              "      const buttonEl =\n",
              "        document.querySelector('#df-d3365193-3dda-47e7-be03-2282be9e3f99 button.colab-df-convert');\n",
              "      buttonEl.style.display =\n",
              "        google.colab.kernel.accessAllowed ? 'block' : 'none';\n",
              "\n",
              "      async function convertToInteractive(key) {\n",
              "        const element = document.querySelector('#df-d3365193-3dda-47e7-be03-2282be9e3f99');\n",
              "        const dataTable =\n",
              "          await google.colab.kernel.invokeFunction('convertToInteractive',\n",
              "                                                    [key], {});\n",
              "        if (!dataTable) return;\n",
              "\n",
              "        const docLinkHtml = 'Like what you see? Visit the ' +\n",
              "          '<a target=\"_blank\" href=https://colab.research.google.com/notebooks/data_table.ipynb>data table notebook</a>'\n",
              "          + ' to learn more about interactive tables.';\n",
              "        element.innerHTML = '';\n",
              "        dataTable['output_type'] = 'display_data';\n",
              "        await google.colab.output.renderOutput(dataTable, element);\n",
              "        const docLink = document.createElement('div');\n",
              "        docLink.innerHTML = docLinkHtml;\n",
              "        element.appendChild(docLink);\n",
              "      }\n",
              "    </script>\n",
              "  </div>\n",
              "\n",
              "\n",
              "<div id=\"df-f896af1c-732b-4e27-8b25-2af4814e775c\">\n",
              "  <button class=\"colab-df-quickchart\" onclick=\"quickchart('df-f896af1c-732b-4e27-8b25-2af4814e775c')\"\n",
              "            title=\"Suggest charts\"\n",
              "            style=\"display:none;\">\n",
              "\n",
              "<svg xmlns=\"http://www.w3.org/2000/svg\" height=\"24px\"viewBox=\"0 0 24 24\"\n",
              "     width=\"24px\">\n",
              "    <g>\n",
              "        <path d=\"M19 3H5c-1.1 0-2 .9-2 2v14c0 1.1.9 2 2 2h14c1.1 0 2-.9 2-2V5c0-1.1-.9-2-2-2zM9 17H7v-7h2v7zm4 0h-2V7h2v10zm4 0h-2v-4h2v4z\"/>\n",
              "    </g>\n",
              "</svg>\n",
              "  </button>\n",
              "\n",
              "<style>\n",
              "  .colab-df-quickchart {\n",
              "      --bg-color: #E8F0FE;\n",
              "      --fill-color: #1967D2;\n",
              "      --hover-bg-color: #E2EBFA;\n",
              "      --hover-fill-color: #174EA6;\n",
              "      --disabled-fill-color: #AAA;\n",
              "      --disabled-bg-color: #DDD;\n",
              "  }\n",
              "\n",
              "  [theme=dark] .colab-df-quickchart {\n",
              "      --bg-color: #3B4455;\n",
              "      --fill-color: #D2E3FC;\n",
              "      --hover-bg-color: #434B5C;\n",
              "      --hover-fill-color: #FFFFFF;\n",
              "      --disabled-bg-color: #3B4455;\n",
              "      --disabled-fill-color: #666;\n",
              "  }\n",
              "\n",
              "  .colab-df-quickchart {\n",
              "    background-color: var(--bg-color);\n",
              "    border: none;\n",
              "    border-radius: 50%;\n",
              "    cursor: pointer;\n",
              "    display: none;\n",
              "    fill: var(--fill-color);\n",
              "    height: 32px;\n",
              "    padding: 0;\n",
              "    width: 32px;\n",
              "  }\n",
              "\n",
              "  .colab-df-quickchart:hover {\n",
              "    background-color: var(--hover-bg-color);\n",
              "    box-shadow: 0 1px 2px rgba(60, 64, 67, 0.3), 0 1px 3px 1px rgba(60, 64, 67, 0.15);\n",
              "    fill: var(--button-hover-fill-color);\n",
              "  }\n",
              "\n",
              "  .colab-df-quickchart-complete:disabled,\n",
              "  .colab-df-quickchart-complete:disabled:hover {\n",
              "    background-color: var(--disabled-bg-color);\n",
              "    fill: var(--disabled-fill-color);\n",
              "    box-shadow: none;\n",
              "  }\n",
              "\n",
              "  .colab-df-spinner {\n",
              "    border: 2px solid var(--fill-color);\n",
              "    border-color: transparent;\n",
              "    border-bottom-color: var(--fill-color);\n",
              "    animation:\n",
              "      spin 1s steps(1) infinite;\n",
              "  }\n",
              "\n",
              "  @keyframes spin {\n",
              "    0% {\n",
              "      border-color: transparent;\n",
              "      border-bottom-color: var(--fill-color);\n",
              "      border-left-color: var(--fill-color);\n",
              "    }\n",
              "    20% {\n",
              "      border-color: transparent;\n",
              "      border-left-color: var(--fill-color);\n",
              "      border-top-color: var(--fill-color);\n",
              "    }\n",
              "    30% {\n",
              "      border-color: transparent;\n",
              "      border-left-color: var(--fill-color);\n",
              "      border-top-color: var(--fill-color);\n",
              "      border-right-color: var(--fill-color);\n",
              "    }\n",
              "    40% {\n",
              "      border-color: transparent;\n",
              "      border-right-color: var(--fill-color);\n",
              "      border-top-color: var(--fill-color);\n",
              "    }\n",
              "    60% {\n",
              "      border-color: transparent;\n",
              "      border-right-color: var(--fill-color);\n",
              "    }\n",
              "    80% {\n",
              "      border-color: transparent;\n",
              "      border-right-color: var(--fill-color);\n",
              "      border-bottom-color: var(--fill-color);\n",
              "    }\n",
              "    90% {\n",
              "      border-color: transparent;\n",
              "      border-bottom-color: var(--fill-color);\n",
              "    }\n",
              "  }\n",
              "</style>\n",
              "\n",
              "  <script>\n",
              "    async function quickchart(key) {\n",
              "      const quickchartButtonEl =\n",
              "        document.querySelector('#' + key + ' button');\n",
              "      quickchartButtonEl.disabled = true;  // To prevent multiple clicks.\n",
              "      quickchartButtonEl.classList.add('colab-df-spinner');\n",
              "      try {\n",
              "        const charts = await google.colab.kernel.invokeFunction(\n",
              "            'suggestCharts', [key], {});\n",
              "      } catch (error) {\n",
              "        console.error('Error during call to suggestCharts:', error);\n",
              "      }\n",
              "      quickchartButtonEl.classList.remove('colab-df-spinner');\n",
              "      quickchartButtonEl.classList.add('colab-df-quickchart-complete');\n",
              "    }\n",
              "    (() => {\n",
              "      let quickchartButtonEl =\n",
              "        document.querySelector('#df-f896af1c-732b-4e27-8b25-2af4814e775c button');\n",
              "      quickchartButtonEl.style.display =\n",
              "        google.colab.kernel.accessAllowed ? 'block' : 'none';\n",
              "    })();\n",
              "  </script>\n",
              "</div>\n",
              "\n",
              "  <div id=\"id_1691ee98-a2e4-45d7-a56e-5ddc091df6a1\">\n",
              "    <style>\n",
              "      .colab-df-generate {\n",
              "        background-color: #E8F0FE;\n",
              "        border: none;\n",
              "        border-radius: 50%;\n",
              "        cursor: pointer;\n",
              "        display: none;\n",
              "        fill: #1967D2;\n",
              "        height: 32px;\n",
              "        padding: 0 0 0 0;\n",
              "        width: 32px;\n",
              "      }\n",
              "\n",
              "      .colab-df-generate:hover {\n",
              "        background-color: #E2EBFA;\n",
              "        box-shadow: 0px 1px 2px rgba(60, 64, 67, 0.3), 0px 1px 3px 1px rgba(60, 64, 67, 0.15);\n",
              "        fill: #174EA6;\n",
              "      }\n",
              "\n",
              "      [theme=dark] .colab-df-generate {\n",
              "        background-color: #3B4455;\n",
              "        fill: #D2E3FC;\n",
              "      }\n",
              "\n",
              "      [theme=dark] .colab-df-generate:hover {\n",
              "        background-color: #434B5C;\n",
              "        box-shadow: 0px 1px 3px 1px rgba(0, 0, 0, 0.15);\n",
              "        filter: drop-shadow(0px 1px 2px rgba(0, 0, 0, 0.3));\n",
              "        fill: #FFFFFF;\n",
              "      }\n",
              "    </style>\n",
              "    <button class=\"colab-df-generate\" onclick=\"generateWithVariable('correlation')\"\n",
              "            title=\"Generate code using this dataframe.\"\n",
              "            style=\"display:none;\">\n",
              "\n",
              "  <svg xmlns=\"http://www.w3.org/2000/svg\" height=\"24px\"viewBox=\"0 0 24 24\"\n",
              "       width=\"24px\">\n",
              "    <path d=\"M7,19H8.4L18.45,9,17,7.55,7,17.6ZM5,21V16.75L18.45,3.32a2,2,0,0,1,2.83,0l1.4,1.43a1.91,1.91,0,0,1,.58,1.4,1.91,1.91,0,0,1-.58,1.4L9.25,21ZM18.45,9,17,7.55Zm-12,3A5.31,5.31,0,0,0,4.9,8.1,5.31,5.31,0,0,0,1,6.5,5.31,5.31,0,0,0,4.9,4.9,5.31,5.31,0,0,0,6.5,1,5.31,5.31,0,0,0,8.1,4.9,5.31,5.31,0,0,0,12,6.5,5.46,5.46,0,0,0,6.5,12Z\"/>\n",
              "  </svg>\n",
              "    </button>\n",
              "    <script>\n",
              "      (() => {\n",
              "      const buttonEl =\n",
              "        document.querySelector('#id_1691ee98-a2e4-45d7-a56e-5ddc091df6a1 button.colab-df-generate');\n",
              "      buttonEl.style.display =\n",
              "        google.colab.kernel.accessAllowed ? 'block' : 'none';\n",
              "\n",
              "      buttonEl.onclick = () => {\n",
              "        google.colab.notebook.generateWithVariable('correlation');\n",
              "      }\n",
              "      })();\n",
              "    </script>\n",
              "  </div>\n",
              "\n",
              "    </div>\n",
              "  </div>\n"
            ],
            "application/vnd.google.colaboratory.intrinsic+json": {
              "type": "dataframe",
              "variable_name": "correlation",
              "summary": "{\n  \"name\": \"correlation\",\n  \"rows\": 4,\n  \"fields\": [\n    {\n      \"column\": \"Miles Traveled\",\n      \"properties\": {\n        \"dtype\": \"number\",\n        \"std\": 0.3042222335678165,\n        \"min\": 0.35579623354708545,\n        \"max\": 1.0,\n        \"num_unique_values\": 4,\n        \"samples\": [\n          0.9558982066200346,\n          0.9281785008874762,\n          1.0\n        ],\n        \"semantic_type\": \"\",\n        \"description\": \"\"\n      }\n    },\n    {\n      \"column\": \"Number of Deliveries\",\n      \"properties\": {\n        \"dtype\": \"number\",\n        \"std\": 0.23212525432356396,\n        \"min\": 0.49824216474016353,\n        \"max\": 1.0,\n        \"num_unique_values\": 4,\n        \"samples\": [\n          1.0,\n          0.916443396447027,\n          0.9558982066200346\n        ],\n        \"semantic_type\": \"\",\n        \"description\": \"\"\n      }\n    },\n    {\n      \"column\": \"Gas Price\",\n      \"properties\": {\n        \"dtype\": \"number\",\n        \"std\": 0.3272679336543328,\n        \"min\": 0.2672115310193848,\n        \"max\": 1.0,\n        \"num_unique_values\": 4,\n        \"samples\": [\n          0.49824216474016353,\n          0.2672115310193848,\n          0.35579623354708545\n        ],\n        \"semantic_type\": \"\",\n        \"description\": \"\"\n      }\n    },\n    {\n      \"column\": \"Travel Time\",\n      \"properties\": {\n        \"dtype\": \"number\",\n        \"std\": 0.3424952599456091,\n        \"min\": 0.2672115310193848,\n        \"max\": 1.0,\n        \"num_unique_values\": 4,\n        \"samples\": [\n          0.916443396447027,\n          1.0,\n          0.9281785008874762\n        ],\n        \"semantic_type\": \"\",\n        \"description\": \"\"\n      }\n    }\n  ]\n}"
            }
          },
          "metadata": {},
          "execution_count": 28
        }
      ],
      "source": [
        "# put your answer here\n",
        "correlation = df.corr()\n",
        "correlation"
      ]
    },
    {
      "cell_type": "markdown",
      "source": [
        "15. Create a correlation matrix"
      ],
      "metadata": {
        "id": "OCcEP5K6dRib"
      }
    },
    {
      "cell_type": "code",
      "execution_count": 30,
      "metadata": {
        "id": "L-DI2aktPQSS",
        "colab": {
          "base_uri": "https://localhost:8080/",
          "height": 568
        },
        "outputId": "9b84c2da-570f-4bd8-8596-537db45b888c"
      },
      "outputs": [
        {
          "output_type": "display_data",
          "data": {
            "text/plain": [
              "<Figure size 640x480 with 2 Axes>"
            ],
            "image/png": "[encoded data removed]"
          },
          "metadata": {}
        }
      ],
      "source": [
        "# put your answer here\n",
        "sns.heatmap(correlation, annot=True, vmin=-1, vmax=1, center=0, cmap='coolwarm')\n",
        "plt.show()"
      ]
    },
    {
      "cell_type": "markdown",
      "metadata": {
        "id": "yYiArptLfGIV"
      },
      "source": [
        "## Building Different Regression Models"
      ]
    },
    {
      "cell_type": "markdown",
      "metadata": {
        "id": "NJ4wex8RjsK2"
      },
      "source": [
        "### Model 1: Miles Traveled and Travel Time"
      ]
    },
    {
      "cell_type": "markdown",
      "source": [
        "16. Set independent and dependent variables"
      ],
      "metadata": {
        "id": "nl_sTh3Hd74j"
      }
    },
    {
      "cell_type": "code",
      "execution_count": 31,
      "metadata": {
        "id": "hQWfifH-fpKT"
      },
      "outputs": [],
      "source": [
        "# put your answer here\n",
        "x = df[['Miles Traveled']]\n",
        "x = sm.add_constant(x)\n",
        "y = df['Travel Time']"
      ]
    },
    {
      "cell_type": "markdown",
      "source": [
        "17. Build and train the model"
      ],
      "metadata": {
        "id": "xErHUNUCeEy5"
      }
    },
    {
      "cell_type": "code",
      "execution_count": 32,
      "metadata": {
        "id": "8Z5ntKuxlYRY",
        "colab": {
          "base_uri": "https://localhost:8080/"
        },
        "outputId": "d22c8244-566a-468e-8a3d-51a173b7b110"
      },
      "outputs": [
        {
          "output_type": "stream",
          "name": "stdout",
          "text": [
            "Intercept: 3.1855602489995554\n",
            "Coefficient: [0.         0.04025678]\n"
          ]
        }
      ],
      "source": [
        "# put your answer here\n",
        "mlr_model = LinearRegression()\n",
        "mlr_model.fit(x, y)\n",
        "\n",
        "y_pred = mlr_model.predict(x)\n",
        "print('Intercept:', mlr_model.intercept_)\n",
        "print('Coefficient:', mlr_model.coef_)"
      ]
    },
    {
      "cell_type": "markdown",
      "source": [
        "18. Display the statistical summary"
      ],
      "metadata": {
        "id": "WHoGr0cIeLtw"
      }
    },
    {
      "cell_type": "code",
      "execution_count": 33,
      "metadata": {
        "id": "EfMmKYwghZCl",
        "colab": {
          "base_uri": "https://localhost:8080/"
        },
        "outputId": "eecd0f0e-9530-4af9-fab0-43c9b8d83da1"
      },
      "outputs": [
        {
          "output_type": "stream",
          "name": "stdout",
          "text": [
            "                            OLS Regression Results                            \n",
            "==============================================================================\n",
            "Dep. Variable:            Travel Time   R-squared:                       0.862\n",
            "Model:                            OLS   Adj. R-squared:                  0.844\n",
            "Method:                 Least Squares   F-statistic:                     49.77\n",
            "Date:                Fri, 06 Sep 2024   Prob (F-statistic):           0.000107\n",
            "Time:                        09:21:26   Log-Likelihood:                -2.3532\n",
            "No. Observations:                  10   AIC:                             8.706\n",
            "Df Residuals:                       8   BIC:                             9.312\n",
            "Df Model:                           1                                         \n",
            "Covariance Type:            nonrobust                                         \n",
            "==================================================================================\n",
            "                     coef    std err          t      P>|t|      [0.025      0.975]\n",
            "----------------------------------------------------------------------------------\n",
            "const              3.1856      0.467      6.822      0.000       2.109       4.262\n",
            "Miles Traveled     0.0403      0.006      7.055      0.000       0.027       0.053\n",
            "==============================================================================\n",
            "Omnibus:                        0.542   Durbin-Watson:                   2.608\n",
            "Prob(Omnibus):                  0.763   Jarque-Bera (JB):                0.554\n",
            "Skew:                           0.370   Prob(JB):                        0.758\n",
            "Kurtosis:                       2.115   Cond. No.                         353.\n",
            "==============================================================================\n",
            "\n",
            "Notes:\n",
            "[1] Standard Errors assume that the covariance matrix of the errors is correctly specified.\n"
          ]
        },
        {
          "output_type": "stream",
          "name": "stderr",
          "text": [
            "/usr/local/lib/python3.10/dist-packages/scipy/stats/_axis_nan_policy.py:531: UserWarning: kurtosistest only valid for n>=20 ... continuing anyway, n=10\n",
            "  res = hypotest_fun_out(*samples, **kwds)\n"
          ]
        }
      ],
      "source": [
        "# put your answer here\n",
        "ols = sm.OLS(y, x).fit()\n",
        "print(ols.summary())"
      ]
    },
    {
      "cell_type": "markdown",
      "source": [
        "19. Display the r-squared"
      ],
      "metadata": {
        "id": "EKATv3rmlz1W"
      }
    },
    {
      "cell_type": "code",
      "execution_count": 36,
      "metadata": {
        "id": "sZ8sTmV8hv3P",
        "colab": {
          "base_uri": "https://localhost:8080/"
        },
        "outputId": "961dfef0-2d68-4f98-f64b-ae7f9c38c4a9"
      },
      "outputs": [
        {
          "output_type": "stream",
          "name": "stdout",
          "text": [
            "0.8615153295097224\n"
          ]
        }
      ],
      "source": [
        "# put your answer here\n",
        "print(olsmod.rsquared)"
      ]
    },
    {
      "cell_type": "code",
      "source": [],
      "metadata": {
        "id": "fb0iV_nOpthj"
      },
      "execution_count": null,
      "outputs": []
    }
  ],
  "metadata": {
    "colab": {
      "provenance": [],
      "toc_visible": true,
      "include_colab_link": true
    },
    "kernelspec": {
      "display_name": "Python 3",
      "name": "python3"
    },
    "language_info": {
      "name": "python"
    }
  },
  "nbformat": 4,
  "nbformat_minor": 0
}