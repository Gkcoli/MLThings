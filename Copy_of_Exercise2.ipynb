{
  "nbformat": 4,
  "nbformat_minor": 0,
  "metadata": {
    "colab": {
      "provenance": [],
      "include_colab_link": true
    },
    "kernelspec": {
      "name": "python3",
      "display_name": "Python 3"
    },
    "language_info": {
      "name": "python"
    }
  },
  "cells": [
    {
      "cell_type": "markdown",
      "metadata": {
        "id": "view-in-github",
        "colab_type": "text"
      },
      "source": [
        "<a href=\"https://colab.research.google.com/github/Gkcoli/MLThings/blob/main/Copy_of_Exercise2.ipynb\" target=\"_parent\"><img src=\"https://colab.research.google.com/assets/colab-badge.svg\" alt=\"Open In Colab\"/></a>"
      ]
    },
    {
      "cell_type": "markdown",
      "source": [
        "## Exercise 2\n",
        "\n",
        "Machine Learning pipeline"
      ],
      "metadata": {
        "id": "DqR0FzmaeM8-"
      }
    },
    {
      "cell_type": "markdown",
      "source": [
        "1. Import the necessary libraries"
      ],
      "metadata": {
        "id": "kJ7diNZsedJY"
      }
    },
    {
      "cell_type": "code",
      "execution_count": null,
      "metadata": {
        "id": "8WCS2b7Ud74H"
      },
      "outputs": [],
      "source": [
        "import numpy as np\n",
        "import pandas as pd\n",
        "import matplotlib.pyplot as plt\n",
        "\n",
        "from sklearn import metrics\n",
        "from sklearn.neighbors import KNeighborsClassifier\n",
        "from sklearn.model_selection import train_test_split"
      ]
    },
    {
      "cell_type": "markdown",
      "source": [
        "2. Load the dataset\n"
      ],
      "metadata": {
        "id": "avlOC-EPej3b"
      }
    },
    {
      "cell_type": "code",
      "source": [
        "#put your answer here\n",
        "dataframe = pd.read_csv(\"iris.csv\")\n",
        "dataframe.drop(columns='Id', inplace=True)\n",
        "#dataframe['Species'].value_counts()\n",
        "#dataframe.info()"
      ],
      "metadata": {
        "id": "XcY2qBqNepW8",
        "colab": {
          "base_uri": "https://localhost:8080/",
          "height": 210
        },
        "outputId": "ebb14214-24f6-49de-8be3-2fb863ddbeeb"
      },
      "execution_count": 15,
      "outputs": [
        {
          "output_type": "execute_result",
          "data": {
            "text/plain": [
              "Species\n",
              "Iris-setosa        50\n",
              "Iris-versicolor    50\n",
              "Iris-virginica     50\n",
              "Name: count, dtype: int64"
            ],
            "text/html": [
              "<div>\n",
              "<style scoped>\n",
              "    .dataframe tbody tr th:only-of-type {\n",
              "        vertical-align: middle;\n",
              "    }\n",
              "\n",
              "    .dataframe tbody tr th {\n",
              "        vertical-align: top;\n",
              "    }\n",
              "\n",
              "    .dataframe thead th {\n",
              "        text-align: right;\n",
              "    }\n",
              "</style>\n",
              "<table border=\"1\" class=\"dataframe\">\n",
              "  <thead>\n",
              "    <tr style=\"text-align: right;\">\n",
              "      <th></th>\n",
              "      <th>count</th>\n",
              "    </tr>\n",
              "    <tr>\n",
              "      <th>Species</th>\n",
              "      <th></th>\n",
              "    </tr>\n",
              "  </thead>\n",
              "  <tbody>\n",
              "    <tr>\n",
              "      <th>Iris-setosa</th>\n",
              "      <td>50</td>\n",
              "    </tr>\n",
              "    <tr>\n",
              "      <th>Iris-versicolor</th>\n",
              "      <td>50</td>\n",
              "    </tr>\n",
              "    <tr>\n",
              "      <th>Iris-virginica</th>\n",
              "      <td>50</td>\n",
              "    </tr>\n",
              "  </tbody>\n",
              "</table>\n",
              "</div><br><label><b>dtype:</b> int64</label>"
            ]
          },
          "metadata": {},
          "execution_count": 15
        }
      ]
    },
    {
      "cell_type": "markdown",
      "source": [
        "3. Visualize the dataset"
      ],
      "metadata": {
        "id": "ZGHxeS-te1Ue"
      }
    },
    {
      "cell_type": "code",
      "source": [
        "# put your answer here\n",
        "#plt.hist(dataframe[\"SepalLengthCm\"])\n",
        "#plt.xlabel(\"SepalLength\")\n",
        "#plt.ylabel(\"Number of rows\")\n",
        "#plt.show()\n",
        "\n",
        "#plt.hist(dataframe[\"PetalLengthCm\"])\n",
        "#plt.xlabel(\"PetalLength\")\n",
        "#plt.ylabel(\"Number of rows\")\n",
        "#plt.show()\n",
        "\n",
        "fig, ax = plt.subplots(2,2, figsize =(8,6))\n",
        "\n",
        "ax[0, 0].hist(dataframe[\"SepalLengthCm\"])\n",
        "ax[0, 1].hist(dataframe[\"SepalWidthCm\"])\n",
        "ax[1, 0].hist(dataframe[\"PetalLengthCm\"])\n",
        "ax[1, 1].hist(dataframe[\"PetalWidthCm\"])\n",
        "\n",
        "ax[0, 0].set_title(\"sepal_length\")\n",
        "ax[0, 1].set_title(\"sepal_width\")\n",
        "ax[1, 0].set_title(\"petal_length\")\n",
        "ax[1, 1].set_title(\"petal_width\")\n",
        "\n",
        "plt.show()\n"
      ],
      "metadata": {
        "id": "j-wBO5a3e50k",
        "colab": {
          "base_uri": "https://localhost:8080/",
          "height": 545
        },
        "outputId": "466e2102-87f3-462f-f45d-c19eeb6c11e4"
      },
      "execution_count": 24,
      "outputs": [
        {
          "output_type": "display_data",
          "data": {
            "text/plain": [
              "<Figure size 800x600 with 4 Axes>"
            ],
            "image/png": "[encoded data removed]"
          },
          "metadata": {}
        }
      ]
    },
    {
      "cell_type": "code",
      "source": [
        "colors = {'Iris-setosa': 'r',\n",
        "          'Iris-virginica': 'b',\n",
        "          'Iris-versicolor': 'g'}"
      ],
      "metadata": {
        "id": "ibVD6h1EddaM"
      },
      "execution_count": 31,
      "outputs": []
    },
    {
      "cell_type": "code",
      "source": [
        "plt.scatter(dataframe['SepalLengthCm'],dataframe['PetalLengthCm'], color = dataframe['Species'].map(colors))\n",
        "plt.xlabel('sepal_length')\n",
        "plt.ylabel('petal_width')\n",
        "plt.show()"
      ],
      "metadata": {
        "id": "rYo7Sa9PeSx0",
        "outputId": "8bcf9745-4aa8-4f38-ad1a-e77c6d5fbac8",
        "colab": {
          "base_uri": "https://localhost:8080/",
          "height": 450
        }
      },
      "execution_count": 35,
      "outputs": [
        {
          "output_type": "display_data",
          "data": {
            "text/plain": [
              "<Figure size 640x480 with 1 Axes>"
            ],
            "image/png": "[encoded data removed]"
          },
          "metadata": {}
        }
      ]
    },
    {
      "cell_type": "markdown",
      "source": [
        "4. Split the dataset into a training set and a testing set"
      ],
      "metadata": {
        "id": "sBAlH3-le712"
      }
    },
    {
      "cell_type": "code",
      "source": [
        "# put your answer here\n",
        "\n",
        "# Array of Feutures\n",
        "X = dataframe.drop(columns=['Species']).values\n",
        "\n",
        "# Array of Labels\n",
        "y = dataframe['Species'].values"
      ],
      "metadata": {
        "id": "0egly2tse90y"
      },
      "execution_count": 37,
      "outputs": []
    },
    {
      "cell_type": "code",
      "source": [
        "X_train, X_test, y_train, y_test = train_test_split(X,\n",
        "                                                    y,\n",
        "                                                    test_size=0.2,\n",
        "                                                    random_state=5)\n",
        "print(X_train.shape)\n",
        "print(y_train.shape)\n",
        "print(X_test.shape)\n",
        "print(y_test.shape)"
      ],
      "metadata": {
        "id": "HZcy5oclg8mU",
        "outputId": "23fb1f9e-8fd4-4414-bad3-d007cc03a54a",
        "colab": {
          "base_uri": "https://localhost:8080/"
        }
      },
      "execution_count": 39,
      "outputs": [
        {
          "output_type": "stream",
          "name": "stdout",
          "text": [
            "(120, 4)\n",
            "(120,)\n",
            "(30, 4)\n",
            "(30,)\n"
          ]
        }
      ]
    },
    {
      "cell_type": "code",
      "source": [
        "print(X_train)"
      ],
      "metadata": {
        "id": "3LnqO5-PiNGL",
        "outputId": "93f873b9-ce2a-4cd3-8484-ae614beba7a6",
        "colab": {
          "base_uri": "https://localhost:8080/"
        }
      },
      "execution_count": 40,
      "outputs": [
        {
          "output_type": "stream",
          "name": "stdout",
          "text": [
            "[[5.1 3.4 1.5 0.2]\n",
            " [5.5 2.3 4.  1.3]\n",
            " [5.7 2.6 3.5 1. ]\n",
            " [5.4 3.7 1.5 0.2]\n",
            " [7.  3.2 4.7 1.4]\n",
            " [5.  3.3 1.4 0.2]\n",
            " [5.  3.5 1.6 0.6]\n",
            " [7.7 3.  6.1 2.3]\n",
            " [5.  3.5 1.3 0.3]\n",
            " [6.4 3.2 5.3 2.3]\n",
            " [5.8 2.7 5.1 1.9]\n",
            " [5.6 2.5 3.9 1.1]\n",
            " [5.1 3.5 1.4 0.3]\n",
            " [5.1 3.8 1.6 0.2]\n",
            " [6.5 2.8 4.6 1.5]\n",
            " [6.2 2.8 4.8 1.8]\n",
            " [5.9 3.  4.2 1.5]\n",
            " [6.7 3.3 5.7 2.1]\n",
            " [7.7 3.8 6.7 2.2]\n",
            " [5.4 3.4 1.7 0.2]\n",
            " [6.3 2.5 5.  1.9]\n",
            " [5.  3.2 1.2 0.2]\n",
            " [4.6 3.4 1.4 0.3]\n",
            " [5.7 4.4 1.5 0.4]\n",
            " [5.2 3.4 1.4 0.2]\n",
            " [6.2 2.9 4.3 1.3]\n",
            " [6.3 3.3 4.7 1.6]\n",
            " [5.5 2.4 3.7 1. ]\n",
            " [5.1 2.5 3.  1.1]\n",
            " [5.9 3.  5.1 1.8]\n",
            " [5.  2.  3.5 1. ]\n",
            " [6.5 3.  5.2 2. ]\n",
            " [6.5 3.  5.8 2.2]\n",
            " [6.9 3.1 4.9 1.5]\n",
            " [4.6 3.6 1.  0.2]\n",
            " [6.6 3.  4.4 1.4]\n",
            " [4.9 3.1 1.5 0.1]\n",
            " [6.7 3.  5.  1.7]\n",
            " [6.7 3.  5.2 2.3]\n",
            " [5.6 2.9 3.6 1.3]\n",
            " [6.3 3.4 5.6 2.4]\n",
            " [5.6 2.7 4.2 1.3]\n",
            " [6.1 3.  4.9 1.8]\n",
            " [6.3 2.3 4.4 1.3]\n",
            " [5.8 2.6 4.  1.2]\n",
            " [5.7 3.  4.2 1.2]\n",
            " [6.9 3.1 5.4 2.1]\n",
            " [6.8 2.8 4.8 1.4]\n",
            " [5.2 4.1 1.5 0.1]\n",
            " [5.8 2.7 5.1 1.9]\n",
            " [4.3 3.  1.1 0.1]\n",
            " [4.8 3.4 1.9 0.2]\n",
            " [5.2 2.7 3.9 1.4]\n",
            " [4.8 3.  1.4 0.3]\n",
            " [4.9 3.1 1.5 0.1]\n",
            " [7.9 3.8 6.4 2. ]\n",
            " [5.  2.3 3.3 1. ]\n",
            " [4.6 3.2 1.4 0.2]\n",
            " [6.5 3.  5.5 1.8]\n",
            " [4.9 3.1 1.5 0.1]\n",
            " [6.  2.2 5.  1.5]\n",
            " [5.5 2.6 4.4 1.2]\n",
            " [5.8 4.  1.2 0.2]\n",
            " [5.4 3.9 1.3 0.4]\n",
            " [6.4 2.7 5.3 1.9]\n",
            " [6.  3.4 4.5 1.6]\n",
            " [5.5 2.5 4.  1.3]\n",
            " [5.5 4.2 1.4 0.2]\n",
            " [4.7 3.2 1.6 0.2]\n",
            " [6.9 3.2 5.7 2.3]\n",
            " [6.  2.9 4.5 1.5]\n",
            " [6.1 3.  4.6 1.4]\n",
            " [4.6 3.1 1.5 0.2]\n",
            " [5.7 2.8 4.5 1.3]\n",
            " [6.  3.  4.8 1.8]\n",
            " [5.8 2.7 4.1 1. ]\n",
            " [4.8 3.4 1.6 0.2]\n",
            " [6.  2.2 4.  1. ]\n",
            " [6.4 3.1 5.5 1.8]\n",
            " [6.7 2.5 5.8 1.8]\n",
            " [6.3 3.3 6.  2.5]\n",
            " [6.8 3.2 5.9 2.3]\n",
            " [5.7 3.8 1.7 0.3]\n",
            " [5.1 3.8 1.5 0.3]\n",
            " [6.  2.7 5.1 1.6]\n",
            " [7.7 2.8 6.7 2. ]\n",
            " [4.4 3.  1.3 0.2]\n",
            " [6.2 2.2 4.5 1.5]\n",
            " [4.7 3.2 1.3 0.2]\n",
            " [5.4 3.4 1.5 0.4]\n",
            " [6.7 3.1 5.6 2.4]\n",
            " [6.4 3.2 4.5 1.5]\n",
            " [7.6 3.  6.6 2.1]\n",
            " [5.5 3.5 1.3 0.2]\n",
            " [6.5 3.2 5.1 2. ]\n",
            " [5.  3.6 1.4 0.2]\n",
            " [6.9 3.1 5.1 2.3]\n",
            " [5.1 3.5 1.4 0.2]\n",
            " [6.6 2.9 4.6 1.3]\n",
            " [5.4 3.9 1.7 0.4]\n",
            " [6.3 2.9 5.6 1.8]\n",
            " [7.2 3.  5.8 1.6]\n",
            " [4.5 2.3 1.3 0.3]\n",
            " [4.9 2.5 4.5 1.7]\n",
            " [5.6 2.8 4.9 2. ]\n",
            " [7.2 3.2 6.  1.8]\n",
            " [6.7 3.1 4.7 1.5]\n",
            " [4.8 3.1 1.6 0.2]\n",
            " [6.7 3.1 4.4 1.4]\n",
            " [5.1 3.8 1.9 0.4]\n",
            " [5.2 3.5 1.5 0.2]\n",
            " [5.5 2.4 3.8 1.1]\n",
            " [5.7 2.5 5.  2. ]\n",
            " [5.  3.4 1.5 0.2]\n",
            " [6.8 3.  5.5 2.1]\n",
            " [4.4 2.9 1.4 0.2]\n",
            " [6.1 2.8 4.7 1.2]\n",
            " [6.7 3.3 5.7 2.5]\n",
            " [7.7 2.6 6.9 2.3]\n",
            " [5.7 2.8 4.1 1.3]]\n"
          ]
        }
      ]
    },
    {
      "cell_type": "markdown",
      "source": [
        "5. Train the model"
      ],
      "metadata": {
        "id": "jyi1oFNwfgzZ"
      }
    },
    {
      "cell_type": "code",
      "source": [
        "# put your answer here\n",
        "knn = KNeighborsClassifier(n_neighbors=13)\n",
        "\n",
        "#Train the model\n",
        "knn.fit(X_train, y_train)\n",
        "\n",
        "#Test the model\n",
        "y_pred = knn.predict(X_test)\n",
        "metrics.accuracy_score(y_test, y_pred)"
      ],
      "metadata": {
        "id": "djxNSbVofeu4",
        "colab": {
          "base_uri": "https://localhost:8080/"
        },
        "outputId": "a8b53277-748a-40d0-9e47-b66da2c0d056"
      },
      "execution_count": 43,
      "outputs": [
        {
          "output_type": "execute_result",
          "data": {
            "text/plain": [
              "0.9666666666666667"
            ]
          },
          "metadata": {},
          "execution_count": 43
        }
      ]
    },
    {
      "cell_type": "markdown",
      "source": [
        "6. Test the model"
      ],
      "metadata": {
        "id": "6ZkUkixXhcCL"
      }
    },
    {
      "cell_type": "code",
      "source": [
        "# put your answer here"
      ],
      "metadata": {
        "id": "odS4um4lfq94"
      },
      "execution_count": 45,
      "outputs": []
    },
    {
      "cell_type": "code",
      "source": [
        "knn.predict([[6,94,21,50]])"
      ],
      "metadata": {
        "id": "wgqkvBvgkso9",
        "outputId": "3225ad47-9827-4eea-c03e-ab95f62dfaef",
        "colab": {
          "base_uri": "https://localhost:8080/"
        }
      },
      "execution_count": 48,
      "outputs": [
        {
          "output_type": "execute_result",
          "data": {
            "text/plain": [
              "array(['Iris-virginica'], dtype=object)"
            ]
          },
          "metadata": {},
          "execution_count": 48
        }
      ]
    }
  ]
}